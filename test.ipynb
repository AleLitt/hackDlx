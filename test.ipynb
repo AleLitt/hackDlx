{
 "cells": [
  {
   "cell_type": "code",
   "execution_count": 3,
   "metadata": {},
   "outputs": [
    {
     "name": "stdout",
     "output_type": "stream",
     "text": [
      "An 'extremely credible source' has called my office and told me that Barack Obama's birth certificate is a fraud\n"
     ]
    }
   ],
   "source": [
    "import requests\n",
    "\n",
    "def get_trump_quote():\n",
    "    response = requests.get(\"https://api.whatdoestrumpthink.com/api/v1/quotes/\")\n",
    "\n",
    "    # Check if the request was successful (status code 200)\n",
    "    if response.status_code == 200:\n",
    "        # Parse the JSON response\n",
    "        data = response.json()\n",
    "\n",
    "        # Extract one quote from the list of quotes\n",
    "        if data[\"messages\"]:\n",
    "            return data[\"messages\"][\"non_personalized\"][0]\n",
    "        else:\n",
    "            return \"No quotes available.\"\n",
    "    else:\n",
    "        # Print an error message if the request was not successful\n",
    "        print(\"Error:\", response.status_code)\n",
    "        return None\n",
    "\n",
    "# Call the function and print the result\n",
    "print(get_trump_quote())\n"
   ]
  },
  {
   "cell_type": "code",
   "execution_count": 2,
   "metadata": {},
   "outputs": [
    {
     "name": "stdout",
     "output_type": "stream",
     "text": [
      "I've known my mom since I was zero years old. She is quite dope.\n"
     ]
    }
   ],
   "source": [
    "import requests\n",
    "\n",
    "def get_kanye_quote():\n",
    "    url = \"https://api.kanye.rest\"\n",
    "    response = requests.get(url)\n",
    "    \n",
    "    if response.status_code == 200:\n",
    "        data = response.json()\n",
    "        return data['quote']\n",
    "    else:\n",
    "        return \"Failed to fetch Kanye quote\"\n",
    "\n",
    "# Example usage\n",
    "quote = get_kanye_quote()\n",
    "print(quote)\n"
   ]
  },
  {
   "cell_type": "code",
   "execution_count": 5,
   "metadata": {},
   "outputs": [
    {
     "name": "stdout",
     "output_type": "stream",
     "text": [
      "1\n",
      "There are 5 main pillars in a professional musicians business - Recording, Publishing, Touring, Merchandise & Name and likeness\n"
     ]
    }
   ],
   "source": [
    "import random\n",
    "\n",
    "t_or_k = random.randint(1, 2)\n",
    "\n",
    "print(t_or_k)\n",
    "\n",
    "if t_or_k == 1:\n",
    "    quote = get_kanye_quote()\n",
    "    print(quote)\n",
    "else:\n",
    "    print(get_trump_quote())\n",
    "     \n",
    "\n"
   ]
  }
 ],
 "metadata": {
  "kernelspec": {
   "display_name": "Python 3",
   "language": "python",
   "name": "python3"
  },
  "language_info": {
   "codemirror_mode": {
    "name": "ipython",
    "version": 3
   },
   "file_extension": ".py",
   "mimetype": "text/x-python",
   "name": "python",
   "nbconvert_exporter": "python",
   "pygments_lexer": "ipython3",
   "version": "3.9.6"
  }
 },
 "nbformat": 4,
 "nbformat_minor": 2
}
